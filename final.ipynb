{
 "cells": [
  {
   "cell_type": "markdown",
   "metadata": {},
   "source": [
    "### 机器学习工程师 -- 猫狗大战"
   ]
  },
  {
   "cell_type": "markdown",
   "metadata": {},
   "source": [
    "#### 一、导入必要的包"
   ]
  },
  {
   "cell_type": "code",
   "execution_count": 75,
   "metadata": {},
   "outputs": [],
   "source": [
    "import os\n",
    "import cv2\n",
    "import h5py\n",
    "import random\n",
    "import numpy as np\n",
    "import pandas as pd\n",
    "from time import time\n",
    "from tqdm import tqdm\n",
    "from time import time\n",
    "import matplotlib.pyplot as plt\n",
    "from keras import optimizers\n",
    "from keras.applications.inception_v3 import preprocess_input, InceptionV3\n",
    "from keras.applications.xception import Xception\n",
    "from keras.models import Sequential, load_model\n",
    "from keras.layers import Dense, GlobalAveragePooling2D, Dropout, Lambda, BatchNormalization\n",
    "from sklearn.model_selection import train_test_split\n",
    "%matplotlib inline"
   ]
  },
  {
   "cell_type": "markdown",
   "metadata": {},
   "source": [
    "#### 二、 读取图片的训练集和测试集"
   ]
  },
  {
   "cell_type": "code",
   "execution_count": 2,
   "metadata": {},
   "outputs": [
    {
     "name": "stdout",
     "output_type": "stream",
     "text": [
      "train文件夹中有25000张图片\n",
      "test文件夹中有12500张图片\n"
     ]
    }
   ],
   "source": [
    "train_path, test_path = 'train/', 'test/' #读取训练集和测试集\n",
    "train_files, test_files = os.listdir(train_path), os.listdir(test_path)\n",
    "\n",
    "n_train_files = len(train_files)\n",
    "n_test_files = len(test_files)\n",
    "\n",
    "image_len = 299\n",
    "n_label = int(n_train_files/2)\n",
    "\n",
    "print(\"train文件夹中有{}张图片\".format(n_train_files))\n",
    "print(\"test文件夹中有{}张图片\".format(n_test_files))"
   ]
  },
  {
   "cell_type": "code",
   "execution_count": null,
   "metadata": {},
   "outputs": [],
   "source": [
    "plt.figure(figsize=(15, 15))\n",
    "for i, train_file in tqdm(enumerate(random.sample(train_files, 16))):\n",
    "    plt.subplot(4, 4, i+1)\n",
    "    image = cv2.cvtColor(cv2.imread(os.path.join(train_path, train_file)), cv2.COLOR_BGR2RGB)\n",
    "    plt.imshow(image)\n",
    "    plt.title(train_file)"
   ]
  },
  {
   "cell_type": "markdown",
   "metadata": {},
   "source": [
    "2.这里把图片从硬盘中读到内存里，并且打上正负标签，把狗的标签打成1，猫的标签打成0\n",
    "\n",
    "(如果觉得图片读取太浪费时间，可以直接点击<a href=\"#hdf5读取\">这里</a>,直接读取本地的images.hdf5文件)"
   ]
  },
  {
   "cell_type": "code",
   "execution_count": 3,
   "metadata": {},
   "outputs": [
    {
     "name": "stderr",
     "output_type": "stream",
     "text": [
      "100%|██████████| 12500/12500 [01:29<00:00, 140.25it/s]\n"
     ]
    }
   ],
   "source": [
    "X = np.zeros((n_train_files, image_len, image_len,3), dtype=np.uint8)\n",
    "X_test = np.zeros((n_test_files, image_len, image_len, 3), dtype=np.uint8)\n",
    "y = np.zeros((n_train_files,), dtype=np.uint8)\n",
    "\n",
    "for i in tqdm(range(n_label)):\n",
    "    X[i] = cv2.cvtColor(cv2.resize(cv2.imread(\"{}cat.{}.jpg\".format(train_path,i)), (image_len, image_len)), cv2.COLOR_BGR2RGB)\n",
    "    X[i+n_label] = cv2.cvtColor(cv2.resize(cv2.imread(\"{}dog.{}.jpg\".format(train_path,i)), (image_len, image_len)), cv2.COLOR_BGR2RGB)\n",
    "    X_test[i] = cv2.cvtColor(cv2.resize(cv2.imread('test/{}.jpg'.format(i+1)), (image_len, image_len)),cv2.COLOR_BGR2RGB)\n",
    "    y[n_label:] = 1"
   ]
  },
  {
   "cell_type": "markdown",
   "metadata": {},
   "source": [
    "3.这里发现读图片就用了两分多钟，接下来把使用h5py模块把X和y保存下来，这样下次读取就快多了。"
   ]
  },
  {
   "cell_type": "code",
   "execution_count": null,
   "metadata": {},
   "outputs": [],
   "source": [
    "with h5py.File(\"images\", 'w') as f:\n",
    "    f['train'] = X\n",
    "    f['lanel'] = y\n",
    "    f['text'] = X_test"
   ]
  },
  {
   "cell_type": "markdown",
   "metadata": {},
   "source": [
    "<a id='hdf5读取'></a>\n",
    "4.这里直接用h5py模块读取实现保存好的images.hdf5,然后查看读取的数据，X和y的维度，和数据类型"
   ]
  },
  {
   "cell_type": "code",
   "execution_count": null,
   "metadata": {},
   "outputs": [],
   "source": [
    "with h5py.File(\"images\", 'r') as f:\n",
    "    X = f['train']\n",
    "    y = f['label']\n",
    "    X_test = f['text']"
   ]
  },
  {
   "cell_type": "code",
   "execution_count": 4,
   "metadata": {},
   "outputs": [
    {
     "name": "stdout",
     "output_type": "stream",
     "text": [
      "X的维度是(25000, 299, 299, 3)， 数据类型是uint8\n",
      "y的维度是(25000,)， 数据类型是uint8\n",
      "X_test的维度是(12500, 299, 299, 3)， 数据类型是uint8\n"
     ]
    }
   ],
   "source": [
    "print(\"X的维度是{}， 数据类型是{}\".format(X.shape, X.dtype))\n",
    "print(\"y的维度是{}， 数据类型是{}\".format(y.shape, y.dtype))\n",
    "print(\"X_test的维度是{}， 数据类型是{}\".format(X_test.shape, X_test.dtype))"
   ]
  },
  {
   "cell_type": "markdown",
   "metadata": {},
   "source": [
    "对调整好的图片再次可视化"
   ]
  },
  {
   "cell_type": "code",
   "execution_count": null,
   "metadata": {},
   "outputs": [],
   "source": [
    "plt.figure(figsize=(15, 15))\n",
    "for i in tqdm(range(16)):\n",
    "    random_index = random.randint(0, n_train_files-1)\n",
    "    plt.subplot(4, 4, i+1)\n",
    "    image = X[random_index]\n",
    "    plt.imshow(image)\n",
    "    plt.title(['cat', 'dog'][y[random_index]])"
   ]
  },
  {
   "cell_type": "markdown",
   "metadata": {},
   "source": [
    "方便获取特征呢构建get_features函数"
   ]
  },
  {
   "cell_type": "code",
   "execution_count": 11,
   "metadata": {},
   "outputs": [],
   "source": [
    "def get_features(Model, data):\n",
    "    model = Sequential()\n",
    "    base_model = Model(weights='imagenet', include_top=False, input_shape = (image_len, image_len, 3))\n",
    "    model.add(Lambda(preprocess_input, name='preprocessing', input_shape=(image_len, image_len, 3)))\n",
    "    model.add(base_model)\n",
    "    model.add(GlobalAveragePooling2D())\n",
    "\n",
    "    feature = model.predict(data, batch_size=128, verbose=1)\n",
    "    return feature"
   ]
  },
  {
   "cell_type": "markdown",
   "metadata": {},
   "source": [
    "fusion_model对两个函数进行权重融合"
   ]
  },
  {
   "cell_type": "code",
   "execution_count": 12,
   "metadata": {},
   "outputs": [],
   "source": [
    "def fusion_model(model1, model2, dataset):\n",
    "    first_feature = get_features(model1, dataset)\n",
    "    second_feature = get_features(model2, dataset)\n",
    "    features = np.concatenate([first_feature, second_feature], axis=-1)\n",
    "    return features"
   ]
  },
  {
   "cell_type": "markdown",
   "metadata": {},
   "source": [
    "将InceptionV3，Xception两个模型进行拼接"
   ]
  },
  {
   "cell_type": "code",
   "execution_count": 13,
   "metadata": {},
   "outputs": [
    {
     "name": "stdout",
     "output_type": "stream",
     "text": [
      "25000/25000 [==============================] - 286s 11ms/step\n",
      "Downloading data from https://github.com/fchollet/deep-learning-models/releases/download/v0.4/xception_weights_tf_dim_ordering_tf_kernels_notop.h5\n",
      "83689472/83683744 [==============================] - 1s 0us/step\n",
      "25000/25000 [==============================] - 546s 22ms/step\n",
      "12500/12500 [==============================] - 141s 11ms/step\n",
      "12500/12500 [==============================] - 283s 23ms/step\n"
     ]
    }
   ],
   "source": [
    "train_features = fusion_model(InceptionV3, Xception, X)\n",
    "feature_test = fusion_model(InceptionV3, Xception, X_test)"
   ]
  },
  {
   "cell_type": "code",
   "execution_count": null,
   "metadata": {},
   "outputs": [],
   "source": [
    "with h5py.File('features', 'w') as d:\n",
    "    d['features'] = features"
   ]
  },
  {
   "cell_type": "code",
   "execution_count": null,
   "metadata": {},
   "outputs": [],
   "source": [
    "with h5py.File('features', 'r') as d:\n",
    "    features = np.array(d['features'])"
   ]
  },
  {
   "cell_type": "markdown",
   "metadata": {},
   "source": [
    "搭建后续的模型"
   ]
  },
  {
   "cell_type": "code",
   "execution_count": 142,
   "metadata": {
    "scrolled": true
   },
   "outputs": [
    {
     "name": "stdout",
     "output_type": "stream",
     "text": [
      "_________________________________________________________________\n",
      "Layer (type)                 Output Shape              Param #   \n",
      "=================================================================\n",
      "Dropout_layer (Dropout)      (None, 4096)              0         \n",
      "_________________________________________________________________\n",
      "Dense_end (Dense)            (None, 1)                 4097      \n",
      "=================================================================\n",
      "Total params: 4,097\n",
      "Trainable params: 4,097\n",
      "Non-trainable params: 0\n",
      "_________________________________________________________________\n"
     ]
    }
   ],
   "source": [
    "cnn_model = Sequential()\n",
    "cnn_model.add(Dropout(0.3, input_shape = train_features.shape[1:], name='Dropout_layer'))\n",
    "# cnn_model.add(BatchNormalization(name='BN'))\n",
    "cnn_model.add(Dense(1, activation='sigmoid', name='Dense_end'))\n",
    "cnn_model.summary()"
   ]
  },
  {
   "cell_type": "code",
   "execution_count": 143,
   "metadata": {},
   "outputs": [],
   "source": [
    "cnn_model.compile(loss='binary_crossentropy',\n",
    "              optimizer=optimizers.Adadelta(),\n",
    "              metrics=['accuracy'])"
   ]
  },
  {
   "cell_type": "code",
   "execution_count": 144,
   "metadata": {},
   "outputs": [],
   "source": [
    "X_train, X_valid, y_train, y_valid = train_test_split(train_features, y, test_size=0.2, random_state=42)"
   ]
  },
  {
   "cell_type": "code",
   "execution_count": 145,
   "metadata": {},
   "outputs": [
    {
     "name": "stdout",
     "output_type": "stream",
     "text": [
      "Train on 20000 samples, validate on 5000 samples\n",
      "Epoch 1/100\n",
      "20000/20000 [==============================] - 23s 1ms/step - loss: 0.0894 - acc: 0.9805 - val_loss: 0.0283 - val_acc: 0.9936\n",
      "Epoch 2/100\n",
      "20000/20000 [==============================] - 1s 61us/step - loss: 0.0213 - acc: 0.9945 - val_loss: 0.0205 - val_acc: 0.9938\n",
      "Epoch 3/100\n",
      "20000/20000 [==============================] - 1s 59us/step - loss: 0.0161 - acc: 0.9949 - val_loss: 0.0187 - val_acc: 0.9936\n",
      "Epoch 4/100\n",
      "20000/20000 [==============================] - 1s 61us/step - loss: 0.0135 - acc: 0.9959 - val_loss: 0.0188 - val_acc: 0.9940\n",
      "Epoch 5/100\n",
      "20000/20000 [==============================] - 1s 64us/step - loss: 0.0130 - acc: 0.9959 - val_loss: 0.0182 - val_acc: 0.9946\n",
      "Epoch 6/100\n",
      "20000/20000 [==============================] - 1s 61us/step - loss: 0.0118 - acc: 0.9962 - val_loss: 0.0184 - val_acc: 0.9942\n",
      "Epoch 7/100\n",
      "20000/20000 [==============================] - 1s 61us/step - loss: 0.0116 - acc: 0.9963 - val_loss: 0.0191 - val_acc: 0.9938\n",
      "Epoch 8/100\n",
      "20000/20000 [==============================] - 1s 60us/step - loss: 0.0103 - acc: 0.9964 - val_loss: 0.0191 - val_acc: 0.9942\n",
      "Epoch 9/100\n",
      "20000/20000 [==============================] - 1s 63us/step - loss: 0.0094 - acc: 0.9969 - val_loss: 0.0202 - val_acc: 0.9930\n",
      "Epoch 10/100\n",
      "20000/20000 [==============================] - 1s 62us/step - loss: 0.0098 - acc: 0.9965 - val_loss: 0.0192 - val_acc: 0.9940\n",
      "训练时间 0.57分钟\n"
     ]
    }
   ],
   "source": [
    "start = time()\n",
    "from keras.callbacks import EarlyStopping\n",
    "early_stopping = EarlyStopping(monitor='val_loss', patience=5)\n",
    "h = cnn_model.fit(X_train, y_train, validation_data=(X_valid, y_valid), epochs=100, batch_size=128, callbacks=[early_stopping])\n",
    "end = (time()-start)/60\n",
    "print(\"训练时间 {:.2f}分钟\".format(end))"
   ]
  },
  {
   "cell_type": "code",
   "execution_count": 146,
   "metadata": {},
   "outputs": [
    {
     "data": {
      "image/png": "[encoded data removed]",
      "text/plain": [
       "<Figure size 720x288 with 2 Axes>"
      ]
     },
     "metadata": {},
     "output_type": "display_data"
    }
   ],
   "source": [
    "plt.figure(figsize=(10,4))\n",
    "\n",
    "plt.subplot(1,2,1)\n",
    "plt.plot(h.history['loss'])\n",
    "plt.plot(h.history['val_loss'])\n",
    "plt.legend(['loss', 'val_loss'])\n",
    "plt.xlabel('epoch')\n",
    "plt.ylabel('loss')\n",
    "plt.title(\"Logloss\")\n",
    "\n",
    "plt.subplot(1,2,2)\n",
    "plt.plot(h.history['acc'])\n",
    "plt.plot(h.history['val_acc'])\n",
    "plt.legend(['acc', 'val_acc'])\n",
    "plt.xlabel('epoch')\n",
    "plt.ylabel('acc')\n",
    "plt.title(\"Acc\");"
   ]
  },
  {
   "cell_type": "markdown",
   "metadata": {},
   "source": [
    "#### 使用测试集"
   ]
  },
  {
   "cell_type": "code",
   "execution_count": 147,
   "metadata": {},
   "outputs": [
    {
     "name": "stdout",
     "output_type": "stream",
     "text": [
      "12500/12500 [==============================] - 9s 744us/step\n"
     ]
    }
   ],
   "source": [
    "y_pred = cnn_model.predict(feature_test, batch_size=128, verbose=1)"
   ]
  },
  {
   "cell_type": "code",
   "execution_count": 148,
   "metadata": {},
   "outputs": [],
   "source": [
    "df = pd.read_csv(\"sample_submission.csv\")\n",
    "df['label'] = y_pred.clip(min=0.05, max=0.995)\n",
    "df.to_csv('pred.csv', index=None)"
   ]
  },
  {
   "cell_type": "code",
   "execution_count": 149,
   "metadata": {},
   "outputs": [
    {
     "name": "stdout",
     "output_type": "stream",
     "text": [
      "Warning: Your Kaggle API key is readable by other users on this system! To fix this, you can run 'chmod 600 /home/ec2-user/.kaggle/kaggle.json'\n",
      "100%|█████████████████████████████████████████| 132k/132k [00:00<00:00, 240kB/s]\n",
      "Successfully submitted to Dogs vs. Cats Redux: Kernels Edition"
     ]
    }
   ],
   "source": [
    "!kaggle competitions submit -c dogs-vs-cats-redux-kernels-edition -f pred.csv -m \"Message\""
   ]
  }
 ],
 "metadata": {
  "kernelspec": {
   "display_name": "Python 3",
   "language": "python",
   "name": "python3"
  },
  "language_info": {
   "codemirror_mode": {
    "name": "ipython",
    "version": 3
   },
   "file_extension": ".py",
   "mimetype": "text/x-python",
   "name": "python",
   "nbconvert_exporter": "python",
   "pygments_lexer": "ipython3",
   "version": "3.7.1"
  }
 },
 "nbformat": 4,
 "nbformat_minor": 2
}
